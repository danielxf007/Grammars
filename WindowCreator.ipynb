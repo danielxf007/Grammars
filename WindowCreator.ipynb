{
 "cells": [
  {
   "cell_type": "code",
   "execution_count": 3,
   "metadata": {},
   "outputs": [],
   "source": [
    "import tkinter as tk\n",
    "from tkinter import ttk\n",
    "from tkinter import messagebox"
   ]
  },
  {
   "cell_type": "code",
   "execution_count": 4,
   "metadata": {},
   "outputs": [],
   "source": [
    "def create_main_window(title, dimensions, resizable):\n",
    "    window = tk.Tk()\n",
    "    window.title(title)\n",
    "    window.geometry(dimensions)\n",
    "    window.resizable(*resizable)\n",
    "    return window\n",
    "        \n",
    "def create_button(window, name, b_width, b_command):\n",
    "    return ttk.Button(window, text=name, width=b_width, command=b_command)\n",
    "\n",
    "def create_text_box(window, t_height, t_width):\n",
    "    return tk.Text(window, height=t_height, width=t_width)\n",
    "\n",
    "def create_entry(window, txt_variable, e_width):\n",
    "    return ttk.Entry(window, textvariable=txtVariable, width=eWidth)\n",
    "\n",
    "def show_error_message(message_content):\n",
    "    tk.messagebox.showerror(\"Error\", message_content)\n",
    "\n",
    "def show_info_message(message_content):\n",
    "    tk.messagebox.showinfo(\"Information\", message_content)"
   ]
  }
 ],
 "metadata": {
  "kernelspec": {
   "display_name": "Python 3",
   "language": "python",
   "name": "python3"
  },
  "language_info": {
   "codemirror_mode": {
    "name": "ipython",
    "version": 3
   },
   "file_extension": ".py",
   "mimetype": "text/x-python",
   "name": "python",
   "nbconvert_exporter": "python",
   "pygments_lexer": "ipython3",
   "version": "3.7.6"
  }
 },
 "nbformat": 4,
 "nbformat_minor": 4
}
