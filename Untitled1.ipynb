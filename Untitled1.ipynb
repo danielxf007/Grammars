{
 "cells": [
  {
   "cell_type": "code",
   "execution_count": 59,
   "metadata": {},
   "outputs": [],
   "source": [
    "class Production:\n",
    "    def __init__(self, left_side, right_side):\n",
    "        self.left_side = left_side #Non terminal of the form <str>\n",
    "        self.right_side = right_side #Array of terminals and non terminals, empty sequence \n",
    "    \n",
    "    def get_left_side(self):\n",
    "        return self.left_side\n",
    "    \n",
    "    def get_right_side(self):\n",
    "        return self.right_side"
   ]
  },
  {
   "cell_type": "code",
   "execution_count": 76,
   "metadata": {},
   "outputs": [],
   "source": [
    "class ProductionSet:\n",
    "    def __init__(self, null_sequence_symbol, production_arr):\n",
    "        self.null_sequence_symbol = null_sequence_symbol\n",
    "        self.production_arr = production_arr\n",
    "    \n",
    "    def get_non_terminals(self):\n",
    "        non_terminals = []\n",
    "        for production in self.production_arr:\n",
    "            if not production.left_side in non_terminals:\n",
    "                non_terminals.append(production.left_side)\n",
    "        return non_terminals\n",
    "    \n",
    "    def get_productions_same_non_terminal(self, non_terminal):\n",
    "        productions = []\n",
    "        for production in self.production_arr:\n",
    "            if production.left_side == non_terminal:\n",
    "                productions.append(production)\n",
    "        return productions\n",
    "    \n",
    "    def only_right_side_of_nonterminals(self, production):\n",
    "        return list(filter(lambda x: x[0] == '<' and x.index('>') == len(x)-1, production.right_side)) == production.right_side\n",
    "    \n",
    "    def has_null_sequence_on_right_side(self, production):\n",
    "        has_null_sequence = False\n",
    "        for _production in self.get_productions_same_non_terminal(production.left_side):\n",
    "            if _production.right_side[0] == self.null_sequence_symbol:\n",
    "                has_null_sequence = True\n",
    "                break\n",
    "        return has_null_sequence\n",
    "    \n",
    "    def has_null_sequence_derivation(self, non_terminal, before_non_terminal):\n",
    "        has_null_sequence = False\n",
    "        productions = []\n",
    "        if before_non_terminal: \n",
    "            productions = list(filter(lambda x: not non_terminal in x.right_side and not before_non_terminal in x.right_side,\n",
    "                                      self.get_productions_same_non_terminal(non_terminal)))\n",
    "        else:\n",
    "            productions = list(filter(lambda x: not non_terminal in x.right_side,\n",
    "                                      self.get_productions_same_non_terminal(non_terminal)))\n",
    "        \n",
    "        for production in productions:\n",
    "            if self.has_null_sequence_on_right_side(production):\n",
    "                has_null_sequence = True\n",
    "                break\n",
    "            if self.only_right_side_of_nonterminals(production):\n",
    "                n_sequence = True\n",
    "                for n_terminal in production.right_side:\n",
    "                    n_sequence = n_sequence and self.has_null_sequence_derivation(n_terminal, non_terminal)\n",
    "                    if not n_sequence:\n",
    "                        break\n",
    "                if n_sequence:\n",
    "                    has_null_sequence = True\n",
    "                    break\n",
    "                    \n",
    "        return has_null_sequence\n",
    "            \n",
    "    def get_nullable_non_terminals(self):\n",
    "        non_terminals =  self.get_non_terminals()\n",
    "        nullable_non_terminals = []\n",
    "        for non_terminal in non_terminals:\n",
    "            if self.has_null_sequence_derivation(non_terminal):\n",
    "                nullable_non_terminals.append(non_terminal)\n",
    "        "
   ]
  },
  {
   "cell_type": "code",
   "execution_count": 78,
   "metadata": {},
   "outputs": [
    {
     "name": "stdout",
     "output_type": "stream",
     "text": [
      "['<A>', '<B>', '<C>', '<D>', '<E>']\n"
     ]
    }
   ],
   "source": [
    "p = [Production('<A>', ['a', '<B>', '<C>']), Production('<A>', ['<D>', 'b', '<A>']), Production('<B>', ['%'] ),\n",
    "    Production('<B>', ['b', '<A>', '<B>']), Production('<C>', ['c', '<C>']), Production('<C>', ['<D>', 'd', '<B>']),\n",
    "    Production('<D>', ['%']), Production('<D>', ['e', '<E>']), Production('<E>', ['<B>', '<D>']), Production('<E>', ['f'])]\n",
    "\n",
    "p1 = [Production('<S>', ['<A>', '<S>', '<B>']), Production('<S>', ['a']), Production('<A>', ['a', '<A>']),\n",
    "      Production('<A>', ['%']), Production('<B>', ['b', '<B>']), Production('<B>', ['%'])]\n",
    "p_set = ProductionSet('%', p)   \n",
    "p_set.has_null_sequence_derivation('<B>', None)\n",
    "print(p_set.get_non_terminals())   \n",
    "        \n"
   ]
  },
  {
   "cell_type": "code",
   "execution_count": 62,
   "metadata": {},
   "outputs": [
    {
     "name": "stdout",
     "output_type": "stream",
     "text": [
      "0\n"
     ]
    }
   ],
   "source": [
    "s = 'asda'\n",
    "print(s.index('a'))"
   ]
  },
  {
   "cell_type": "code",
   "execution_count": 63,
   "metadata": {},
   "outputs": [
    {
     "name": "stdout",
     "output_type": "stream",
     "text": [
      "['a']\n"
     ]
    }
   ],
   "source": [
    "s = ['a', 'b', 'c']\n",
    "print(list(filter(lambda x: x == 'a', s)))"
   ]
  },
  {
   "cell_type": "code",
   "execution_count": 64,
   "metadata": {},
   "outputs": [
    {
     "name": "stdout",
     "output_type": "stream",
     "text": [
      "False True\n"
     ]
    }
   ],
   "source": [
    "print(not 'a', 'b' in ['a', 'b', 'c']) "
   ]
  },
  {
   "cell_type": "code",
   "execution_count": null,
   "metadata": {},
   "outputs": [],
   "source": []
  }
 ],
 "metadata": {
  "kernelspec": {
   "display_name": "Python 3",
   "language": "python",
   "name": "python3"
  },
  "language_info": {
   "codemirror_mode": {
    "name": "ipython",
    "version": 3
   },
   "file_extension": ".py",
   "mimetype": "text/x-python",
   "name": "python",
   "nbconvert_exporter": "python",
   "pygments_lexer": "ipython3",
   "version": "3.7.6"
  }
 },
 "nbformat": 4,
 "nbformat_minor": 4
}
