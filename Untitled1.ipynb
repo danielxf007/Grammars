{
 "cells": [
  {
   "cell_type": "code",
   "execution_count": 7,
   "metadata": {},
   "outputs": [],
   "source": [
    "import UtilFunctions as util_f"
   ]
  },
  {
   "cell_type": "code",
   "execution_count": 8,
   "metadata": {},
   "outputs": [],
   "source": [
    "class Production:\n",
    "    def __init__(self, left_side, right_side):\n",
    "        self.left_side = left_side #Non terminal of the form <str>\n",
    "        self.right_side = right_side #Array of terminals and non terminals, empty sequence \n",
    "    \n",
    "    def get_left_side(self):\n",
    "        return self.left_side\n",
    "    \n",
    "    def get_right_side(self):\n",
    "        return self.right_side"
   ]
  },
  {
   "cell_type": "code",
   "execution_count": 9,
   "metadata": {},
   "outputs": [],
   "source": [
    "class ProductionSet:\n",
    "    def __init__(self, null_sequence_symbol, production_arr, non_terminal_arr):\n",
    "        self.null_sequence_symbol = null_sequence_symbol\n",
    "        self.production_arr = production_arr\n",
    "        self.non_terminal_arr = non_terminal_arr\n",
    "\n",
    "    \n",
    "    def is_non_terminal(self, symbol):\n",
    "        return symbol[0] == '<' and symbol.index('>') == len(symbol)-1\n",
    "    \n",
    "        \n",
    "    def is_terminal(self, symbol):\n",
    "        return symbol != self.null_sequence_symbol and not self.is_non_terminal(symbol)\n",
    "    \n",
    "    def get_non_terminals(self):\n",
    "        return self.non_terminal_arr\n",
    "    \n",
    "    def get_productions_same_non_terminal(self, non_terminal):\n",
    "        productions = []\n",
    "        for production in self.production_arr:\n",
    "            if production.left_side == non_terminal:\n",
    "                productions.append(production)\n",
    "        return productions\n",
    "    \n",
    "    def only_right_side_of_nonterminals(self, production):\n",
    "        return list(filter(lambda x: x[0] == '<' and x.index('>') == len(x)-1, production.right_side)) == production.right_side\n",
    "    \n",
    "    def non_terminal_has_null_sequence_on_right_side(self, non_terminal):\n",
    "        has_null_sequence = False\n",
    "        for production in self.get_productions_same_non_terminal(non_terminal):\n",
    "            if production.right_side[0] == self.null_sequence_symbol:\n",
    "                has_null_sequence = True\n",
    "                break\n",
    "        return has_null_sequence\n",
    "    \n",
    "    def has_null_sequence_derivation(self, non_terminal, before_non_terminal):\n",
    "        has_null_sequence = False\n",
    "        productions = []\n",
    "        if before_non_terminal: \n",
    "            productions = list(filter(lambda x: not non_terminal in x.right_side and not before_non_terminal in x.right_side,\n",
    "                                      self.get_productions_same_non_terminal(non_terminal)))\n",
    "        else:\n",
    "            productions = list(filter(lambda x: not non_terminal in x.right_side,\n",
    "                                      self.get_productions_same_non_terminal(non_terminal)))\n",
    "        \n",
    "        for production in productions:\n",
    "            if self.non_terminal_has_null_sequence_on_right_side(production.left_side):\n",
    "                has_null_sequence = True\n",
    "                break\n",
    "            if self.only_right_side_of_nonterminals(production):\n",
    "                n_sequence = True\n",
    "                for n_terminal in production.right_side:\n",
    "                    n_sequence = n_sequence and self.has_null_sequence_derivation(n_terminal, non_terminal)\n",
    "                    if not n_sequence:\n",
    "                        break\n",
    "                if n_sequence:\n",
    "                    has_null_sequence = True\n",
    "                    break\n",
    "                    \n",
    "        return has_null_sequence\n",
    "            \n",
    "    def get_nullable_non_terminals(self):\n",
    "        nullable_non_terminals = []\n",
    "        for non_terminal in self.get_non_terminals():\n",
    "            if self.has_null_sequence_derivation(non_terminal, None):\n",
    "                nullable_non_terminals.append(non_terminal)\n",
    "        return nullable_non_terminals\n",
    "    \n",
    "    def production_has_null_sequence_on_right_side(self, production):\n",
    "        return production.right_side[0] == self.null_sequence_symbol\n",
    "    \n",
    "    def get_nullable_productions(self, nullable_non_terminals):\n",
    "        production_indexes = []\n",
    "        for index in range(0, len(self.production_arr)):\n",
    "            if self.production_has_null_sequence_on_right_side(self.production_arr[index]):\n",
    "                production_indexes.append(index)\n",
    "            if self.only_right_side_of_nonterminals(self.production_arr[index]):\n",
    "                all_nullable = True\n",
    "                for non_terminal in self.production_arr[index].right_side:\n",
    "                    all_nullable = all_nullable and non_terminal in nullable_non_terminals\n",
    "                    if not all_nullable:\n",
    "                        break\n",
    "                if all_nullable:\n",
    "                    production_indexes.append(index)\n",
    "        return production_indexes\n",
    "    \n",
    "    def get_set_of_firsts_for_non_terminal(self, non_terminal, nullable_non_terminals):\n",
    "        productions =  self.get_productions_same_non_terminal(non_terminal)\n",
    "        set_of_firsts = []\n",
    "        for production in productions:\n",
    "            if self.is_terminal(production.right_side[0]):\n",
    "                set_of_firsts = util_f.add_list_no_repeated_elements(set_of_firsts, [production.right_side[0]])\n",
    "            elif not self.production_has_null_sequence_on_right_side(production):\n",
    "                for symbol in production.right_side:\n",
    "                    if symbol == non_terminal:\n",
    "                        break\n",
    "                    if self.is_non_terminal(symbol):\n",
    "                        if not symbol in nullable_non_terminals:\n",
    "                            set_of_firsts = util_f.add_list_no_repeated_elements(set_of_firsts,\n",
    "                                            self.get_set_of_firsts_for_non_terminal(symbol, nullable_non_terminals))\n",
    "                            break\n",
    "                        else:\n",
    "                            set_of_firsts = util_f.add_list_no_repeated_elements(set_of_firsts,\n",
    "                                            self.get_set_of_firsts_for_non_terminal(symbol, nullable_non_terminals))\n",
    "                    else:\n",
    "                        set_of_firsts = util_f.add_list_no_repeated_elements(set_of_firsts, [symbol])\n",
    "                        break\n",
    "        return set_of_firsts\n",
    "    \n",
    "    def get_set_of_firsts_for_non_terminals(self):\n",
    "        set_of_firsts = []\n",
    "        nullable_non_terminals = self.get_nullable_non_terminals()\n",
    "        for non_terminal in self.get_non_terminals():\n",
    "            set_of_firsts.append(self.get_set_of_firsts_for_non_terminal(non_terminal, nullable_non_terminals))\n",
    "        return set_of_firsts\n",
    "    \n",
    "    def get_set_of_firsts_for_n_production(self, production_number, nullable_non_terminals, set_of_firsts_for_non_terminals):\n",
    "        set_of_firsts = []\n",
    "        visited_non_terminals = []\n",
    "        for symbol in self.production_arr[production_number].right_side:\n",
    "            if self.is_terminal(symbol):\n",
    "                set_of_firsts.append([symbol])\n",
    "                break\n",
    "            if symbol == self.null_sequence_symbol:\n",
    "                break\n",
    "            if symbol in nullable_non_terminals:\n",
    "                if not symbol in visited_non_terminals:\n",
    "                    print(set_of_firsts_for_non_terminals[self.get_non_terminals().index(symbol)])\n",
    "                    set_of_firsts = util_f.add_list_no_repeated_elements(set_of_firsts,\n",
    "                                    set_of_firsts_for_non_terminals[self.get_non_terminals().index(symbol)])\n",
    "                    visited_non_terminals.append(symbol)\n",
    "            else:\n",
    "                set_of_firsts = self.get_set_of_firsts_for_non_terminal(symbol)\n",
    "                break\n",
    "        return set_of_firsts\n",
    "    \n",
    "    def get_set_of_firsts_for_productions(self):\n",
    "        set_of_firsts = []\n",
    "        nullable_non_terminals = self.get_nullable_non_terminals()\n",
    "        set_of_firsts_for_non_terminals = self.get_set_of_firsts_for_non_terminals()\n",
    "        for index in range(0, len(self.production_arr)):\n",
    "            set_of_firsts.append(self.get_set_of_firsts_for_n_production(index, nullable_non_terminals,\n",
    "                                set_of_firsts_for_non_terminals))\n",
    "        return set_of_firsts\n",
    "                "
   ]
  },
  {
   "cell_type": "code",
   "execution_count": null,
   "metadata": {},
   "outputs": [],
   "source": []
  },
  {
   "cell_type": "code",
   "execution_count": 10,
   "metadata": {},
   "outputs": [
    {
     "name": "stdout",
     "output_type": "stream",
     "text": [
      "['<B>', '<D>', '<E>']\n",
      "[2, 6, 8]\n",
      "[['a', 'e', 'b'], ['b'], ['c', 'e', 'd'], ['e'], ['b', 'e', 'f']]\n",
      "['e']\n",
      "['e']\n",
      "['b']\n",
      "['e']\n",
      "[[['a']], ['e', ['b']], [], [['b']], [['c']], ['e', ['d']], [], [['e']], ['b', 'e'], [['f']]]\n"
     ]
    }
   ],
   "source": [
    "p = [Production('<A>', ['a', '<B>', '<C>']), Production('<A>', ['<D>', 'b', '<A>']), Production('<B>', ['%'] ),\n",
    "    Production('<B>', ['b', '<A>', '<B>']), Production('<C>', ['c', '<C>']), Production('<C>', ['<D>', 'd', '<B>']),\n",
    "    Production('<D>', ['%']), Production('<D>', ['e', '<E>']), Production('<E>', ['<B>', '<D>']), Production('<E>', ['f'])]\n",
    "\n",
    "p1 = [Production('<S>', ['<A>', '<S>', '<B>']), Production('<S>', ['a']), Production('<A>', ['a', '<A>']),\n",
    "      Production('<A>', ['%']), Production('<B>', ['b', '<B>']), Production('<B>', ['%'])]\n",
    "p_set = ProductionSet('%', p, ['<A>', '<B>', '<C>', '<D>', '<E>'])   \n",
    "print(p_set.get_nullable_non_terminals())   \n",
    "print(p_set.get_nullable_productions(p_set.get_nullable_non_terminals()))\n",
    "print(p_set.get_set_of_firsts_for_non_terminals())\n",
    "print(p_set.get_set_of_firsts_for_productions())"
   ]
  },
  {
   "cell_type": "code",
   "execution_count": null,
   "metadata": {},
   "outputs": [],
   "source": []
  },
  {
   "cell_type": "code",
   "execution_count": 11,
   "metadata": {},
   "outputs": [
    {
     "name": "stdout",
     "output_type": "stream",
     "text": [
      "['a']\n"
     ]
    }
   ],
   "source": [
    "s = ['a', 'b', 'c']\n",
    "print(list(filter(lambda x: x == 'a', s)))"
   ]
  },
  {
   "cell_type": "code",
   "execution_count": 12,
   "metadata": {},
   "outputs": [
    {
     "name": "stdout",
     "output_type": "stream",
     "text": [
      "False True\n"
     ]
    }
   ],
   "source": [
    "print(not 'a', 'b' in ['a', 'b', 'c']) "
   ]
  },
  {
   "cell_type": "code",
   "execution_count": null,
   "metadata": {},
   "outputs": [],
   "source": []
  }
 ],
 "metadata": {
  "kernelspec": {
   "display_name": "Python 3",
   "language": "python",
   "name": "python3"
  },
  "language_info": {
   "codemirror_mode": {
    "name": "ipython",
    "version": 3
   },
   "file_extension": ".py",
   "mimetype": "text/x-python",
   "name": "python",
   "nbconvert_exporter": "python",
   "pygments_lexer": "ipython3",
   "version": "3.7.6"
  }
 },
 "nbformat": 4,
 "nbformat_minor": 4
}
