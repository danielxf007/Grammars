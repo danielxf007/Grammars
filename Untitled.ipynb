{
 "cells": [
  {
   "cell_type": "code",
   "execution_count": 2,
   "metadata": {},
   "outputs": [
    {
     "name": "stdout",
     "output_type": "stream",
     "text": [
      "1( #3 R R )\n",
      "*( #2 #1 R )\n",
      "$( R R A )\n",
      "True\n"
     ]
    }
   ],
   "source": [
    "import PDA\n",
    "\n",
    "stack_op = PDA.StackOperation()\n",
    "state_op = PDA.StateOperation(['S0'], ['S0'])\n",
    "t1 = PDA.Transition('#1', stack_op.replace_generator(['1', '*']), state_op, True)\n",
    "t2 = PDA.Transition('#2', stack_op.pop_generator(), state_op, False)\n",
    "t3 = PDA.Transition('#3', stack_op.pop_generator(), state_op, True)\n",
    "t4 = PDA.Transition('A', None, None, None)\n",
    "t5 = PDA.Transition('R', None, None, None)\n",
    "table = [[t3, t5, t5], [t2, t1, t5], [t5, t5, t4]]\n",
    "transition_table = PDA.TransitionTable(['1', '*', '$'], ['0', '1', '!'], 'S0', table)\n",
    "transition_table.print_table()\n",
    "automata = PDA.PushDownAutomaton(['0', '1', '!'], '!', 'A', 'R', ['S0'], 'S0', ['$', '*', '*'], [transition_table])\n",
    "print(automata.belongs_to_language(['1', '1', '0', '0', '1', '1', '0', '0', '!']))"
   ]
  },
  {
   "cell_type": "code",
   "execution_count": null,
   "metadata": {},
   "outputs": [],
   "source": []
  }
 ],
 "metadata": {
  "kernelspec": {
   "display_name": "Python 3",
   "language": "python",
   "name": "python3"
  },
  "language_info": {
   "codemirror_mode": {
    "name": "ipython",
    "version": 3
   },
   "file_extension": ".py",
   "mimetype": "text/x-python",
   "name": "python",
   "nbconvert_exporter": "python",
   "pygments_lexer": "ipython3",
   "version": "3.7.6"
  }
 },
 "nbformat": 4,
 "nbformat_minor": 4
}
