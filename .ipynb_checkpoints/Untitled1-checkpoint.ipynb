{
 "cells": [
  {
   "cell_type": "code",
   "execution_count": 19,
   "metadata": {},
   "outputs": [],
   "source": [
    "class Production:\n",
    "    def __init__(self, left_side, right_side):\n",
    "        self.left_side = left_side #Non terminal of the form <str>\n",
    "        self.right_side = right_side #Array of terminals and non terminals, empty sequence \n",
    "    \n",
    "    def get_left_side(self):\n",
    "        return self.left_side\n",
    "    \n",
    "    def get_right_side(self):\n",
    "        return self.right_side"
   ]
  },
  {
   "cell_type": "code",
   "execution_count": 25,
   "metadata": {},
   "outputs": [],
   "source": [
    "class ProductionSet:\n",
    "    def __init__(self, null_sequence_symbol, production_arr):\n",
    "        self.null_sequence_symbol = null_sequence_symbol\n",
    "        self.production_arr = production_arr\n",
    "    \n",
    "    def get_right_side_of_production(self, non_terminal):\n",
    "        right_side = []\n",
    "        for production in self.production_arr:\n",
    "            if production.left_side == non_terminal:\n",
    "                right_side.append(production.right_side)\n",
    "        return right_side\n",
    "    \n",
    "    def only_right_side_of_nonterminals(self, production):\n",
    "        return list(filter(lambda x: x[0] == '<' and x.index('>') == len(x)-1, production.right_side)) == production.right_side\n",
    "    \n",
    "    def is_a_nullable_nonterminal(self, non_terminal):\n",
    "        \n",
    "    \n",
    "    def get_nullable_non_terminals(self):\n",
    "        non_terminals = []\n",
    "        print(self.only_right_side_of_nonterminals(self.production_arr[0]))\n",
    "        "
   ]
  },
  {
   "cell_type": "code",
   "execution_count": 27,
   "metadata": {},
   "outputs": [
    {
     "name": "stdout",
     "output_type": "stream",
     "text": [
      "True\n"
     ]
    }
   ],
   "source": [
    "p = Production('<N>', ['<D>', '<M>', '<A>'] )\n",
    "            \n",
    "p_set = ProductionSet('%', [p])   \n",
    "p_set.get_nullable_non_terminals()\n",
    "    \n",
    "        \n"
   ]
  },
  {
   "cell_type": "code",
   "execution_count": 22,
   "metadata": {},
   "outputs": [
    {
     "name": "stdout",
     "output_type": "stream",
     "text": [
      "0\n"
     ]
    }
   ],
   "source": [
    "s = 'asda'\n",
    "print(s.index('a'))"
   ]
  },
  {
   "cell_type": "code",
   "execution_count": 23,
   "metadata": {},
   "outputs": [
    {
     "name": "stdout",
     "output_type": "stream",
     "text": [
      "['a']\n"
     ]
    }
   ],
   "source": [
    "s = ['a', 'b', 'c']\n",
    "print(list(filter(lambda x: x == 'a', s)))"
   ]
  },
  {
   "cell_type": "code",
   "execution_count": null,
   "metadata": {},
   "outputs": [],
   "source": []
  }
 ],
 "metadata": {
  "kernelspec": {
   "display_name": "Python 3",
   "language": "python",
   "name": "python3"
  },
  "language_info": {
   "codemirror_mode": {
    "name": "ipython",
    "version": 3
   },
   "file_extension": ".py",
   "mimetype": "text/x-python",
   "name": "python",
   "nbconvert_exporter": "python",
   "pygments_lexer": "ipython3",
   "version": "3.7.6"
  }
 },
 "nbformat": 4,
 "nbformat_minor": 4
}
