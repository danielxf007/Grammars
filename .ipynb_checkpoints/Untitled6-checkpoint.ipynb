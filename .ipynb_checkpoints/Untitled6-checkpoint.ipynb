{
 "cells": [
  {
   "cell_type": "code",
   "execution_count": null,
   "metadata": {},
   "outputs": [],
   "source": []
  },
  {
   "cell_type": "code",
   "execution_count": 129,
   "metadata": {},
   "outputs": [],
   "source": [
    "import PCV\n",
    "import WindowCreator as wc\n",
    "import NecessarySets as ns\n",
    "import PDAC\n",
    "import PDA as pda"
   ]
  },
  {
   "cell_type": "code",
   "execution_count": null,
   "metadata": {},
   "outputs": [],
   "source": []
  },
  {
   "cell_type": "code",
   "execution_count": 130,
   "metadata": {},
   "outputs": [],
   "source": [
    "pcv_variables = {'string_separator': '\\n', 'non_terminal_start': '<', 'non_terminal_finish': '>', 'arrow_tail': '-',\n",
    "                 'arrow_head': '>', 'null_sequence_symbol': '%', 'empty_stack_symbol': '$', 'end_of_sequence_symbol': '!',\n",
    "                 'non_terminal_pattern': '<[a-zA-Z]+>', 'arrow_op': '-{1}>{1}'}\n",
    "pcv_variables['special_characters'] = [pcv_variables['arrow_tail'], pcv_variables['arrow_head'],\n",
    "             pcv_variables['empty_stack_symbol'], pcv_variables['end_of_sequence_symbol'], pcv_variables['non_terminal_start'],\n",
    "             pcv_variables['non_terminal_finish']]\n",
    "\n",
    "ui_variables = {'w_title': 'Grammars', 'w_dimensions': '600x600', 'w_resizable': (False, False), 'txt_box_h': 25,\n",
    "                'txt_box_w': 25, 'txt_box_coor': (0, 0), 'b_pda_name': 'Create Automata', 'b_width': 50,\n",
    "                'b_pda_coor': (250, 0), 'input_err_m': 'Your input does not follow the convention',\n",
    "                'err_0': 'Your productions are not well written', 'err_1': 'There is an infinite cycle in your productions'}"
   ]
  },
  {
   "cell_type": "code",
   "execution_count": null,
   "metadata": {},
   "outputs": [],
   "source": []
  },
  {
   "cell_type": "code",
   "execution_count": 131,
   "metadata": {},
   "outputs": [],
   "source": [
    "class App:\n",
    "    \n",
    "    def __init__(self, pcv_variables, ui_variables):\n",
    "        self.pcv_variables = pcv_variables\n",
    "        self.ui_variables = ui_variables\n",
    "        self.grammar_variables = grammar_variables\n",
    "        self.window = None\n",
    "        self.txt_box = None\n",
    "        self.b_pda = None\n",
    "        self.production_creator = PCV.ProductionCreator(pcv_variables['string_separator'], pcv_variables['non_terminal_start'],\n",
    "                                                       pcv_variables['non_terminal_finish'], pcv_variables['arrow_tail'],\n",
    "                                                       pcv_variables['arrow_op'])\n",
    "        self.production_validator = None\n",
    "        self.production_set = None\n",
    "        self.pda_creator = None\n",
    "        self.push_down_automata = None\n",
    "        \n",
    "    def start(self):\n",
    "        self.window = wc.create_main_window(self.ui_variables['w_title'], self.ui_variables['w_dimensions'],\n",
    "                                       self.ui_variables['w_resizable'])\n",
    "        self.txt_box = wc.create_text_box(self.window, self.ui_variables['txt_box_h'], self.ui_variables['txt_box_w'])\n",
    "        self.txt_box.place(x=self.ui_variables['txt_box_coor'][0], y=self.ui_variables['txt_box_coor'][1])\n",
    "        self.b_pda = wc.create_button(self.window, self.ui_variables['b_pda_name'], self.ui_variables['b_width'],\n",
    "                                      self.create_push_down_automata)\n",
    "        self.b_pda.place(x=self.ui_variables['b_pda_coor'][0], y=self.ui_variables['b_pda_coor'][1])\n",
    "        self.window.mainloop()\n",
    "        \n",
    "    def valid_productions(self, productions):\n",
    "        valid = True\n",
    "        if not self.production_validator.productions_are_well_written(productions):\n",
    "            valid = False\n",
    "            wc.show_error_message(self.ui_variables['err_0'])\n",
    "        if self.production_validator.production_with_infinite_cycle(productions):\n",
    "            valid = False\n",
    "            wc.show_error_message(self.ui_variables['err_1'])\n",
    "        return valid\n",
    "    \n",
    "    def get_selection_set(self):\n",
    "        nullable_non_terminals = self.production_set.get_nullable_non_terminals()\n",
    "        nullable_productions = self.production_set.get_nullable_productions(nullable_non_terminals)\n",
    "        set_of_firsts_for_non_terminals = self.production_set.replace_non_terminals(self.production_set.get_firsts_base_cases(\n",
    "            nullable_non_terminals))\n",
    "        set_of_firsts_for_productions = self.production_set.get_set_of_firsts_for_productions(nullable_non_terminals,\n",
    "                                                                                set_of_firsts_for_non_terminals)\n",
    "        set_of_nexts = self.production_set.replace_non_terminals(self.production_set.get_nexts_base_cases(\n",
    "            nullable_non_terminals, set_of_firsts_for_non_terminals))\n",
    "        selection_set = self.production_set.get_set_of_selection_for_productions(nullable_productions,\n",
    "                                                                   set_of_firsts_for_productions, set_of_nexts)\n",
    "        return selection_set\n",
    "    \n",
    "    def obtained_pda(self):\n",
    "        if type(self.push_down_automata) == type([]):\n",
    "            print(self.push_down_automata)\n",
    "            return False\n",
    "        return True\n",
    "    def create_push_down_automata(self):\n",
    "        string = self.txt_box.get(\"1.0\",\"end-1c\")\n",
    "        productions = self.production_creator.create_productions(self.production_creator.from_string_to_list(string))\n",
    "        if not productions:\n",
    "            wc.show_error_message(self.ui_variables['input_err_m'])\n",
    "        else:\n",
    "            non_terminals = self.production_creator.get_non_terminals(productions)\n",
    "            self.production_validator = PCV.ProductionValidator(non_terminals, self.pcv_variables['null_sequence_symbol'],\n",
    "                                                               self.pcv_variables['non_terminal_pattern'],\n",
    "                                                                self.pcv_variables['special_characters'])\n",
    "            if self.valid_productions(productions):\n",
    "                initial_non_terminal = non_terminals[0]\n",
    "                self.production_set = ns.ProductionSet(initial_non_terminal, self.pcv_variables['null_sequence_symbol'],\n",
    "                                                 self.pcv_variables['end_of_sequence_symbol'], productions, non_terminals)\n",
    "                selection_set = self.get_selection_set()\n",
    "                stack_operations = pda.StackOperation()\n",
    "                self.pda_creator = PDAC.PDACreator(self.pcv_variables['end_of_sequence_symbol'], \n",
    "                                                   self.pcv_variables['null_sequence_symbol'],\n",
    "                                                   self.pcv_variables['empty_stack_symbol'],\n",
    "                                                   initial_non_terminal, non_terminals, productions, stack_operations,\n",
    "                                                   selection_set)\n",
    "                self.push_down_automata = self.pda_creator.create_PDA()\n",
    "                print(self.push_down_automata)\n",
    "            "
   ]
  },
  {
   "cell_type": "code",
   "execution_count": 132,
   "metadata": {},
   "outputs": [
    {
     "name": "stderr",
     "output_type": "stream",
     "text": [
      "Exception in Tkinter callback\n",
      "Traceback (most recent call last):\n",
      "  File \"C:\\Users\\Daniel\\anaconda3\\lib\\tkinter\\__init__.py\", line 1705, in __call__\n",
      "    return self.func(*args)\n",
      "  File \"<ipython-input-131-9e7035e82986>\", line 77, in create_push_down_automata\n",
      "    self.push_down_automata = self.pda_creator.create_PDA()\n",
      "  File \"C:\\Users\\Daniel\\Desktop\\grammars\\PDAC.py\", line 310, in create_PDA\n",
      "    symbols_in_PDA = self.get_symbols_in_PDA()\n",
      "  File \"C:\\Users\\Daniel\\Desktop\\grammars\\PDAC.py\", line 154, in get_symbols_in_PDA\n",
      "    symbols_in_PDA = set(self.non_terminals)\n",
      "NameError: name 'non_terminals' is not defined\n"
     ]
    }
   ],
   "source": [
    "app = App(pcv_variables, ui_variables)\n",
    "app.start()"
   ]
  },
  {
   "cell_type": "code",
   "execution_count": null,
   "metadata": {},
   "outputs": [],
   "source": []
  },
  {
   "cell_type": "code",
   "execution_count": null,
   "metadata": {},
   "outputs": [],
   "source": []
  }
 ],
 "metadata": {
  "kernelspec": {
   "display_name": "Python 3",
   "language": "python",
   "name": "python3"
  },
  "language_info": {
   "codemirror_mode": {
    "name": "ipython",
    "version": 3
   },
   "file_extension": ".py",
   "mimetype": "text/x-python",
   "name": "python",
   "nbconvert_exporter": "python",
   "pygments_lexer": "ipython3",
   "version": "3.7.6"
  }
 },
 "nbformat": 4,
 "nbformat_minor": 4
}
